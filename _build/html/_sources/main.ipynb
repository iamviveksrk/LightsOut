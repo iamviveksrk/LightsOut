{
 "cells": [
  {
   "cell_type": "markdown",
   "metadata": {
    "slideshow": {
     "slide_type": "slide"
    }
   },
   "source": [
    "# Lights Out \n",
    "\n",
    "In this presentation, I cover:\n",
    "\n",
    "- The mechanics of the Lights Out game\n",
    "- A playable demo\n",
    "- Solving the game (RREF over $\\mathbb{Z}_2$)\n",
    "- *Solvability* of a game\n",
    "- (crux.) Size and Shape doesn't matter\n",
    "- Create your own lights out grid, and have the program solve it!\n",
    "- Proof that the all lights-on configuration is always winnable\n",
    "___\n",
    "\n",
    "This is an interactive presentation (RISE). Therefore, make sure to run each cell that appears using `ctrl`+`enter`. Use the `PgUp` and `PgDn` buttons to navigate through the slides.\n",
    "\n",
    "---\n",
    "\n",
    "This presentation is heavily inspired from this [video](https://www.youtube.com/watch?v=1izbpSk3ays), and a [chapter](https://njohnston.ca/lights_out.pdf) on the same topic; both by [Nathaniel Johnston](https://njohnston.ca/). "
   ]
  },
  {
   "cell_type": "markdown",
   "metadata": {
    "slideshow": {
     "slide_type": "slide"
    }
   },
   "source": [
    "## Mechanics of the Game\n",
    "\n",
    "In Lights-Out, there is a grid (typically square) with lights in each square. Each light can be in either of $2$ states - `on` or `off`. The game starts with some configuration of these lights.\n",
    "\n",
    "The goal in Lights-Out is to turn all these lights off. The user has the ability to select lights to turn on/off. But there's a catch!\n",
    "\n",
    "Turning on/off a light also affects its orthogonal \"neighbours\". The effect is to flip the neighbour's states too."
   ]
  },
  {
   "cell_type": "code",
   "execution_count": null,
   "metadata": {
    "slideshow": {
     "slide_type": "-"
    },
    "tags": []
   },
   "outputs": [],
   "source": [
    "import numpy as np\n",
    "import matplotlib.pyplot as plt\n",
    "\n",
    "from lights_out import *\n",
    "from canvas import *"
   ]
  },
  {
   "cell_type": "markdown",
   "metadata": {
    "slideshow": {
     "slide_type": "slide"
    }
   },
   "source": [
    "### Demo\n",
    "\n",
    "Run the code-cell below to play the $3 \\times 3$ Lights Out game! \n",
    "\n",
    "Input the name/label of the button you want to press. \n",
    "\n",
    "The inputs terminate when the puzzle is solved (when all the lights are off). \n",
    "\n",
    "If you want to give up, input $-1$."
   ]
  },
  {
   "cell_type": "code",
   "execution_count": null,
   "metadata": {
    "cell_style": "split",
    "scrolled": false,
    "slideshow": {
     "slide_type": "-"
    }
   },
   "outputs": [],
   "source": [
    "env = LightsOut([(i, j) for i in range(3) for j in range(3)])\n",
    "env.play()"
   ]
  },
  {
   "cell_type": "markdown",
   "metadata": {
    "cell_style": "split",
    "slideshow": {
     "slide_type": "fragment"
    }
   },
   "source": [
    "If you were unable to solve the $3 \\times 3$ grid and would like to know a *possible* solution sequence, use `LightsOut.solve()`"
   ]
  },
  {
   "cell_type": "code",
   "execution_count": null,
   "metadata": {
    "cell_style": "split",
    "scrolled": true,
    "slideshow": {
     "slide_type": "-"
    }
   },
   "outputs": [],
   "source": [
    "env.solve()"
   ]
  },
  {
   "cell_type": "markdown",
   "metadata": {
    "slideshow": {
     "slide_type": "slide"
    }
   },
   "source": [
    "Here's an example on the $5 \\times 5$ lights out grid. The `LightsOut.illustrate_solution()` method generates an animation of a possible solution:"
   ]
  },
  {
   "cell_type": "code",
   "execution_count": null,
   "metadata": {
    "slideshow": {
     "slide_type": "fragment"
    }
   },
   "outputs": [],
   "source": [
    "env = LightsOut([(i, j) for i in range(5) for j in range(5)])\n",
    "print('Move Sequence:', ', '.join(env.solve().astype(str)))\n",
    "env.illustrate_solution(label=True)"
   ]
  },
  {
   "cell_type": "markdown",
   "metadata": {
    "slideshow": {
     "slide_type": "slide"
    }
   },
   "source": [
    "## Solving the Game\n",
    "\n",
    "For now, lets consider the $3 \\times 3$ grid to illustrate the solution. The method can then be generalized as well."
   ]
  },
  {
   "cell_type": "code",
   "execution_count": null,
   "metadata": {
    "slideshow": {
     "slide_type": "-"
    }
   },
   "outputs": [],
   "source": [
    "env = LightsOut([(i, j) for i in range(3) for j in range(3)])"
   ]
  },
  {
   "cell_type": "markdown",
   "metadata": {
    "slideshow": {
     "slide_type": "fragment"
    }
   },
   "source": [
    "### Encoding the configuration and actions\n",
    "\n",
    "The states of the 9 lights are firstly encoded in binary- $0$ for `off` and $1$ for `on`. These values are then populated into a 9-dimensional vector over $\\mathbb{Z}_2$"
   ]
  },
  {
   "cell_type": "markdown",
   "metadata": {
    "slideshow": {
     "slide_type": "fragment"
    }
   },
   "source": [
    "By doing this, actions (button presses) can now be represented by vector addition. Each button press will correspond to a vector of $0$s and $1$s, where the presence of a $1$ indicates that that particular light is an orthogonal neighbour and hence, is also afected by the action."
   ]
  },
  {
   "cell_type": "markdown",
   "metadata": {
    "slideshow": {
     "slide_type": "subslide"
    }
   },
   "source": [
    "For example, the vector toggling button $4$ (let's call it $\\mathbf{a_4}$) corresponds to:\n",
    "\n",
    "$$\n",
    "\\mathbf{a_4} = (0, 1, 0, 1, 1, 1, 0, 1, 0)\n",
    "$$\n",
    "\n",
    "Since pressing button $4$ affects itself, and also its orthogonal neighbours $1$, $3$, $5$, and $7$."
   ]
  },
  {
   "cell_type": "code",
   "execution_count": null,
   "metadata": {
    "cell_style": "split",
    "slideshow": {
     "slide_type": "-"
    }
   },
   "outputs": [],
   "source": [
    "config = np.random.choice([0, 1], size=9)\n",
    "env.displane(config, config=True)\n",
    "plt.title((f'This state is encoded by: [{\", \".join(np.array(config).astype(str))}]'))\n",
    "plt.show()"
   ]
  },
  {
   "cell_type": "code",
   "execution_count": null,
   "metadata": {
    "cell_style": "split",
    "slideshow": {
     "slide_type": "fragment"
    }
   },
   "outputs": [],
   "source": [
    "four = np.array([0, 1, 0, 1, 1, 1, 0, 1, 0])\n",
    "env.displane(np.mod(config+four, 2), config=True)\n",
    "plt.title((f'Pressing 4;'))\n",
    "plt.show()"
   ]
  },
  {
   "cell_type": "markdown",
   "metadata": {
    "slideshow": {
     "slide_type": "subslide"
    }
   },
   "source": [
    "**Fact:** The solution only depends on which buttons are pressed."
   ]
  },
  {
   "cell_type": "markdown",
   "metadata": {
    "slideshow": {
     "slide_type": "fragment"
    }
   },
   "source": [
    "*Why?*\n",
    "- If we focus solely on *just one* light, then its state at the end of the game **only** depends on its own starting state, and the number of times the buttons corresponding to itself and its' neighbours were pressed.\n",
    "- No solution may *require* us to press a button more than once, since pressing a button is the equivalent to not pressing at all. (This observation also re-inforces our choice of $\\mathbb{Z}_2$)"
   ]
  },
  {
   "cell_type": "markdown",
   "metadata": {
    "slideshow": {
     "slide_type": "slide"
    }
   },
   "source": [
    "### Formulating the problem\n",
    "\n",
    "Let $\\mathbf{v_s}$ and $\\mathbf{v_e}$ denote the starting and intended final configurations respectively, and let $\\mathbf{a_i}$ denote the $9$ different actions for our $3 \\times 3$ grid. Then our goal is to find $x_1, x_2, \\cdots, x_9$ such that:\n",
    "\n",
    "\\begin{align}\n",
    "\\mathbf{v_s} + (x_1\\mathbf{a_1} + x_2\\mathbf{a_2} + \\cdots + x_9\\mathbf{a_9}) &= \\mathbf{v_c}, \\quad \\text{or} \\\\\n",
    "x_1\\mathbf{a_1} + x_2\\mathbf{a_2} + \\cdots + x_9\\mathbf{a_9} &= \\mathbf{v_e} - \\mathbf{v_s}\n",
    "\\end{align}\n",
    "\n",
    "This is a system of linear equations. Taking $A = [\\mathbf{a_1} | \\mathbf{a_2} | \\cdots | \\mathbf{a_9}]$ we can rewrite the above system as \n",
    "\n",
    "$$\n",
    "A\\mathbf{x} = \\mathbf{v_e} - \\mathbf{v_s}\n",
    "$$\n",
    "\n",
    "For our $3 \\times 3$ case, the matrix $A$ looks something like this (dots are used in-place of 0s for readability):"
   ]
  },
  {
   "cell_type": "code",
   "execution_count": null,
   "metadata": {
    "slideshow": {
     "slide_type": "-"
    }
   },
   "outputs": [],
   "source": [
    "print_matrix(env.action_matrix, last=False)"
   ]
  },
  {
   "cell_type": "markdown",
   "metadata": {
    "slideshow": {
     "slide_type": "slide"
    }
   },
   "source": [
    "### Solving the problem\n",
    "\n",
    "Let $\\mathbf{v_s} = 1$ and $\\mathbf{v_e} = 0$ i.e, we start with the \"all-lights on\" configuration, and need to turn all the lights off to solve the game. Equivalently, we need to solve the linear system $A\\mathbf{x} = \\mathbf{v_e}-\\mathbf{v_s} = 1$\n",
    "\n",
    "We construct the augmented matrix $[A | 1]$, and obtain its reduced row-echelon form:"
   ]
  },
  {
   "cell_type": "code",
   "execution_count": null,
   "metadata": {
    "cell_style": "split",
    "slideshow": {
     "slide_type": "fragment"
    }
   },
   "outputs": [],
   "source": [
    "env.solve();\n",
    "print_matrix(env.A)"
   ]
  },
  {
   "cell_type": "code",
   "execution_count": null,
   "metadata": {
    "cell_style": "split",
    "slideshow": {
     "slide_type": "fragment"
    }
   },
   "outputs": [],
   "source": [
    "print_matrix(env.A_rref)"
   ]
  },
  {
   "cell_type": "markdown",
   "metadata": {
    "slideshow": {
     "slide_type": "subslide"
    }
   },
   "source": [
    "### Gauss-Jordan in $\\mathbb{Z}_2$\n",
    "\n",
    "Below is the step-by-step visualization of Gauss-Jordan on reducing the matrix $[A|1]$.\n",
    "\n",
    "Press `Enter` to go through each step. Input `>>` to auto-play:"
   ]
  },
  {
   "cell_type": "code",
   "execution_count": null,
   "metadata": {
    "cell_style": "center",
    "slideshow": {
     "slide_type": "fragment"
    }
   },
   "outputs": [],
   "source": [
    "env.illustrate_elimination()"
   ]
  },
  {
   "cell_type": "markdown",
   "metadata": {
    "slideshow": {
     "slide_type": "fragment"
    }
   },
   "source": [
    "From the above, setting $\\mathbf{x} = (1, 0, 1, 0, 1, 0, 1, 0, 1)$ (corresponding to the $0$th, $2$nd, $4$th, $6$th and $8$th actions) is a solution for the $3 \\times 3$ Lights Out puzzle.\n",
    "\n",
    "Note that in this case, the reduced row-echelon form has the identity matrix on the left (hence full rank), which indicates that a solution *always exists* (alternatively, any starting configuration is always winnable). This may not always happen."
   ]
  },
  {
   "cell_type": "markdown",
   "metadata": {
    "slideshow": {
     "slide_type": "subslide"
    }
   },
   "source": [
    "**Question:** What are the number of starting configurations that are winnable in the $3 \\times 3$ case?"
   ]
  },
  {
   "cell_type": "markdown",
   "metadata": {
    "slideshow": {
     "slide_type": "fragment"
    }
   },
   "source": [
    "Any starting configuration is winnable; so there are $2^9$ winnable configurations."
   ]
  },
  {
   "cell_type": "markdown",
   "metadata": {
    "slideshow": {
     "slide_type": "slide"
    }
   },
   "source": [
    "### Is the problem always solvable?\n",
    "\n"
   ]
  },
  {
   "cell_type": "markdown",
   "metadata": {
    "slideshow": {
     "slide_type": "fragment"
    }
   },
   "source": [
    "Let's again consider the $5 \\times 5$ case, and obtain the row-reduced echelon form of its action matrix:"
   ]
  },
  {
   "cell_type": "code",
   "execution_count": null,
   "metadata": {
    "cell_style": "split",
    "slideshow": {
     "slide_type": "-"
    }
   },
   "outputs": [],
   "source": [
    "env = LightsOut([(i, j) for i in range(5) for j in range(5)])\n",
    "env.solve();\n",
    "env.illustrate_elimination(guide=False, period=0)"
   ]
  },
  {
   "cell_type": "markdown",
   "metadata": {
    "cell_style": "split",
    "slideshow": {
     "slide_type": "fragment"
    }
   },
   "source": [
    "Observe that there are $2$ \"trailing\" vectors that are not part of the leading pivot matrix (free variables)."
   ]
  },
  {
   "cell_type": "markdown",
   "metadata": {
    "cell_style": "center",
    "slideshow": {
     "slide_type": "subslide"
    }
   },
   "source": [
    "Let's take the trailing columns (corresponding to $23$, and $24$) of the matrix and visualize it's move sequence:"
   ]
  },
  {
   "cell_type": "code",
   "execution_count": null,
   "metadata": {
    "cell_style": "split",
    "slideshow": {
     "slide_type": "fragment"
    }
   },
   "outputs": [],
   "source": [
    "move_seq = [i for i in range(env.n) if env.A_rref[:, -3][i]]\n",
    "print(move_seq)\n",
    "env.illustrate_moves(move_seq, label=True)"
   ]
  },
  {
   "cell_type": "code",
   "execution_count": null,
   "metadata": {
    "cell_style": "split",
    "slideshow": {
     "slide_type": "fragment"
    }
   },
   "outputs": [],
   "source": [
    "move_seq = [i for i in range(env.n) if env.A_rref[:, -2][i]]\n",
    "print(move_seq)\n",
    "env.illustrate_moves(move_seq, label=True)"
   ]
  },
  {
   "cell_type": "markdown",
   "metadata": {
    "slideshow": {
     "slide_type": "fragment"
    }
   },
   "source": [
    "Note that this move sequence is exactly equivalent to pressing buttons 23 and 24 once. Buttons 23 and 24 therefore become *redundant*, since there exists some other combination of button presses that yield the exact same effect."
   ]
  },
  {
   "cell_type": "markdown",
   "metadata": {
    "slideshow": {
     "slide_type": "subslide"
    }
   },
   "source": [
    "**Question**: What are the number of starting configurations that are winnable in the $5 \\times 5$ case?"
   ]
  },
  {
   "cell_type": "markdown",
   "metadata": {
    "slideshow": {
     "slide_type": "fragment"
    }
   },
   "source": [
    "- In the $5 \\times 5$ case, we have 2 free-variables; buttons $23$ and $24$. \n",
    "\n",
    "- Now, let $x$ be the solution for a particular game.\n",
    "\n",
    "- Note that since buttons $23$ and $24$ are redundant buttons, we can generate 3 more solutions for the same by choosing whether to press or not press buttons $23$ and $24$.\n",
    "\n",
    "- Therefore, only $2^{25}/2^{2} = 2^{23}$ starting configurations are solvable."
   ]
  },
  {
   "cell_type": "markdown",
   "metadata": {
    "slideshow": {
     "slide_type": "fragment"
    }
   },
   "source": [
    "The implication is that there may exist certain initial configurations that are not solvable."
   ]
  },
  {
   "cell_type": "markdown",
   "metadata": {
    "slideshow": {
     "slide_type": "fragment"
    }
   },
   "source": [
    "However, there is a neat result:\n",
    "\n",
    "The all $1$s configuration is **always** solvable!\n",
    "\n",
    "**Always**; irrespective of the size, or even the shape of the `LightsOut` grid! \n",
    "\n",
    "We'll prove this lemma at the end of this presentation. But let's experiment with this freedom of size and shape of our level first:"
   ]
  },
  {
   "cell_type": "markdown",
   "metadata": {
    "slideshow": {
     "slide_type": "slide"
    }
   },
   "source": [
    "## Size and Shape doesn't matter!\n",
    "\n",
    "We can use the same row-reduction method discussed earlier on grids with any shape and size! \n",
    "\n",
    "Try solving the below *traingular* puzzle. Remember, you can always give up by passing `-1` as the input."
   ]
  },
  {
   "cell_type": "code",
   "execution_count": null,
   "metadata": {
    "cell_style": "split",
    "slideshow": {
     "slide_type": "fragment"
    }
   },
   "outputs": [],
   "source": [
    "initial_state = [1, 1, 1, 1, 0, 0, 0, 0, 1]\n",
    "env = LightsOut([(0, 2), (1, 1), (1, 2), (1, 3), (2, 0), (2, 1), (2, 2), (2, 3), (2, 4)])\n",
    "env.play(state=initial_state)"
   ]
  },
  {
   "cell_type": "code",
   "execution_count": null,
   "metadata": {
    "cell_style": "split",
    "slideshow": {
     "slide_type": "fragment"
    }
   },
   "outputs": [],
   "source": [
    "print(env.solve(state=initial_state))\n",
    "env.illustrate_solution(label=True, state=initial_state)"
   ]
  },
  {
   "cell_type": "markdown",
   "metadata": {
    "slideshow": {
     "slide_type": "subslide"
    }
   },
   "source": [
    "## Create your own `LightsOut` level!"
   ]
  },
  {
   "cell_type": "markdown",
   "metadata": {
    "cell_style": "split",
    "slideshow": {
     "slide_type": "-"
    }
   },
   "source": [
    "Draw your level here..."
   ]
  },
  {
   "cell_type": "markdown",
   "metadata": {
    "cell_style": "split",
    "slideshow": {
     "slide_type": "-"
    }
   },
   "source": [
    "...and have the program solve it here!"
   ]
  },
  {
   "cell_type": "code",
   "execution_count": null,
   "metadata": {
    "cell_style": "split",
    "scrolled": false,
    "slideshow": {
     "slide_type": "-"
    }
   },
   "outputs": [],
   "source": [
    "canvas"
   ]
  },
  {
   "cell_type": "code",
   "execution_count": null,
   "metadata": {
    "cell_style": "split",
    "slideshow": {
     "slide_type": "-"
    },
    "tags": []
   },
   "outputs": [],
   "source": [
    "grid = (canvas.get_image_data().sum(axis=2)[:,:int(0.95*width)][::marker_size, ::marker_size] > 0).astype(int)\n",
    "grid = [(i, j) for i in range(grid.shape[0]) for j in range(grid.shape[1]) if grid[(i, j)]]\n",
    "\n",
    "env = LightsOut(grid)\n",
    "env.illustrate_solution()"
   ]
  },
  {
   "cell_type": "markdown",
   "metadata": {
    "slideshow": {
     "slide_type": "slide"
    }
   },
   "source": [
    "**Statement:** The  \"all-lights on\" configuration is always winnable.\n",
    "\n",
    "**Proof:** Let the action matrix be $A$. A very simplified version of the proof is as follows:"
   ]
  },
  {
   "cell_type": "markdown",
   "metadata": {
    "slideshow": {
     "slide_type": "fragment"
    }
   },
   "source": [
    "- All-Lights on configuration solvable $\\implies \\mathbb{1} \\in \\mathcal{C}(A)$ "
   ]
  },
  {
   "cell_type": "markdown",
   "metadata": {
    "slideshow": {
     "slide_type": "fragment"
    }
   },
   "source": [
    "- Observe $A = A^T$ by construction ($A_{ij}$ is $1$ if $i$ is a neighbour of $j$, and the *neighbour* relation is symmetric). Thus $$\\mathbb{1} \\in \\mathcal{C}(A) \\implies \\mathbb{1} \\in \\mathcal{C}(A^T) \\implies \\mathbb{1} \\in \\mathcal{R}(A)$$"
   ]
  },
  {
   "cell_type": "markdown",
   "metadata": {
    "slideshow": {
     "slide_type": "fragment"
    }
   },
   "source": [
    "- Let $\\hat{A}$ be the row echelon form of A. Note that $\\mathcal{R}(A) = \\mathcal{R}(\\hat{A})$. Therefore $\\mathbb{1} \\in \\mathcal{R}(A) \\implies \\mathbb{1} \\in \\mathcal{R}(\\hat{A})$"
   ]
  },
  {
   "cell_type": "markdown",
   "metadata": {
    "slideshow": {
     "slide_type": "fragment"
    }
   },
   "source": [
    "- Now, consider the sum of all rows in $\\hat{A}$. We want this to be $\\mathbb{1}$, since then $\\mathbb{1} \\in \\mathcal{R}(\\hat{A}$). This requires all columns to contain an odd number of $1$s in them (recall we are working in $\\mathbb{Z}_2$)."
   ]
  },
  {
   "cell_type": "markdown",
   "metadata": {
    "slideshow": {
     "slide_type": "fragment"
    }
   },
   "source": [
    "- Note this is true for all the leading columns of $\\hat{A}$. Therefore, we need to show that the non-leading columns of $\\hat{A}$ also have an odd number of $1$s in them."
   ]
  },
  {
   "cell_type": "markdown",
   "metadata": {
    "slideshow": {
     "slide_type": "subslide"
    }
   },
   "source": [
    "- Consider the basis for $\\mathcal{N}(A)$. We can construct this basis as follows:\n",
    "    - For every non-leading column in $\\hat{A}$:\n",
    "        1. Come up with a linear combination of leading columns to construct the selected non-leading column. Note this combination is exactly the non-leading column padded with some $0$s.\n",
    "        2. Set $-1$ to the index of the non-leading column in this combination. This will then yield a combination $x$ s.t. $\\hat{A}x = \\mathbb{0}$\n",
    "        \n",
    "  Note: In $\\mathbb{Z}_2, -1 \\equiv 1$"
   ]
  },
  {
   "cell_type": "markdown",
   "metadata": {
    "slideshow": {
     "slide_type": "fragment"
    }
   },
   "source": [
    "- Recall from the $5 \\times 5$ example, where buttons $24$ and $25$ were shown to be redundant via reconstruction of the leading columns. If we perform the button sequence for button $24$, and then again press $24$, then observe that yields the all-off configuration, implying it is a part of $\\mathcal{N}(A)$. This exact mechanism is described in the construction above."
   ]
  },
  {
   "cell_type": "markdown",
   "metadata": {
    "slideshow": {
     "slide_type": "fragment"
    }
   },
   "source": [
    "- Thus, we have that the number of $1$s in the null space basis is $1$ more than the number of $1$s in the non-leading column."
   ]
  },
  {
   "cell_type": "markdown",
   "metadata": {
    "slideshow": {
     "slide_type": "fragment"
    }
   },
   "source": [
    "- We wanted to show that non-leading columns contain an odd number of $1$s. Hence, it is now enough to show that all vectors of the null space have an even number of $1$s, and we'll be done."
   ]
  },
  {
   "cell_type": "markdown",
   "metadata": {
    "slideshow": {
     "slide_type": "subslide"
    }
   },
   "source": [
    "- Let $y \\in \\mathcal{N}(A)$ have $k$ ones (we want to show $k$ is even). We have $Ay = \\mathbb{0}$"
   ]
  },
  {
   "cell_type": "markdown",
   "metadata": {
    "slideshow": {
     "slide_type": "fragment"
    }
   },
   "source": [
    "- Construct a $k \\times k$ shape matrix $B$ by deleting row $j$ and column $j$ of $A$, wherever $y_j = 0$. For example:"
   ]
  },
  {
   "cell_type": "markdown",
   "metadata": {
    "slideshow": {
     "slide_type": "fragment"
    }
   },
   "source": [
    "$$\n",
    "\\mathbf{y}=\\left[\\begin{array}{l}\n",
    "0 \\\\\n",
    "1 \\\\\n",
    "1 \\\\\n",
    "0 \\\\\n",
    "1\n",
    "\\end{array}\\right] \\quad \\text { and } \\quad A=\\left[\\begin{array}{lllll}\n",
    "1 & 0 & 1 & 1 & 0 \\\\\n",
    "0 & 1 & 0 & 1 & 0 \\\\\n",
    "1 & 0 & 1 & 1 & 1 \\\\\n",
    "1 & 1 & 1 & 1 & 0 \\\\\n",
    "0 & 0 & 1 & 0 & 1\n",
    "\\end{array}\\right] \\quad \\text { then } \\quad B=\\left[\\begin{array}{lll}\n",
    "1 & 0 & 0 \\\\\n",
    "0 & 1 & 1 \\\\\n",
    "0 & 1 & 1\n",
    "\\end{array}\\right]\n",
    "$$"
   ]
  },
  {
   "cell_type": "markdown",
   "metadata": {
    "slideshow": {
     "slide_type": "fragment"
    }
   },
   "source": [
    "- Now, $Ay = \\mathbb{0} \\implies B\\mathbb{1} = \\mathbb{0}$"
   ]
  },
  {
   "cell_type": "markdown",
   "metadata": {
    "slideshow": {
     "slide_type": "fragment"
    }
   },
   "source": [
    "- Observe that $B\\mathbb{1}$ simply counts the number of $1$s in the rows of $B$."
   ]
  },
  {
   "cell_type": "markdown",
   "metadata": {
    "slideshow": {
     "slide_type": "fragment"
    }
   },
   "source": [
    "- Hence $B\\mathbb{1} = \\mathbb{0} \\implies$ every row in $B$ contains an even number of $1$s. "
   ]
  },
  {
   "cell_type": "markdown",
   "metadata": {
    "slideshow": {
     "slide_type": "subslide"
    }
   },
   "source": [
    "- Observe that $B$ by construction is symmetric, and all its diagonal entries are $1$ (very much like its parent matrix $A$)."
   ]
  },
  {
   "cell_type": "markdown",
   "metadata": {
    "slideshow": {
     "slide_type": "fragment"
    }
   },
   "source": [
    "- Let $C = B - I$; $C$ is just $B$ but with all diagonal entries as $0$. Recall every row of $B$ had an even number of $1$s."
   ]
  },
  {
   "cell_type": "markdown",
   "metadata": {
    "slideshow": {
     "slide_type": "fragment"
    }
   },
   "source": [
    "- Hence, every row of $C$ has an odd number of $1$s. Observe that $C$ is also a symmetric $k \\times k$ matrix."
   ]
  },
  {
   "cell_type": "markdown",
   "metadata": {
    "slideshow": {
     "slide_type": "fragment"
    }
   },
   "source": [
    "- From these properties of $C$, we can conclude that $k$ is even. Can you come up with a reason why?\n",
    "\n",
    "  Hint: The number of $1$s in $C$ is even. Why?"
   ]
  },
  {
   "cell_type": "markdown",
   "metadata": {
    "slideshow": {
     "slide_type": "fragment"
    }
   },
   "source": [
    " - Answer:\n",
    "     - All diagonal entries $= 0$ and symmetry $\\implies$ number of $1$s in $C$ is even.\n",
    "     - Number of $1$s in $C$ is even, odd number of $1$s in each row $\\implies$ there are an even number of rows.\n",
    " \n",
    " - Hence $k$ is even! This completes the proof."
   ]
  },
  {
   "cell_type": "markdown",
   "metadata": {
    "slideshow": {
     "slide_type": "subslide"
    }
   },
   "source": [
    "### A *backtracking* summary of the proof:"
   ]
  },
  {
   "cell_type": "markdown",
   "metadata": {
    "slideshow": {
     "slide_type": "fragment"
    }
   },
   "source": [
    "- Recall $k$ was the number of $1$s in $y$, where $y \\in \\mathcal{N}(A)$."
   ]
  },
  {
   "cell_type": "markdown",
   "metadata": {
    "slideshow": {
     "slide_type": "fragment"
    }
   },
   "source": [
    "- $k$ is even $\\implies$ all $y \\in \\mathcal{N}(A)$ have an even number of $1$s."
   ]
  },
  {
   "cell_type": "markdown",
   "metadata": {
    "slideshow": {
     "slide_type": "fragment"
    }
   },
   "source": [
    "- All $y \\in \\mathcal{N}(A)$ have an even number of $1$s $\\implies$ all non-leading columns of $\\hat{A}$ have an odd number of $1$s."
   ]
  },
  {
   "cell_type": "markdown",
   "metadata": {
    "slideshow": {
     "slide_type": "fragment"
    }
   },
   "source": [
    "- All non-leading columns of $\\hat{A}$ have an odd number of $1$s $\\implies \\mathbb{1} \\in \\mathcal{R}(\\hat{A})$ (summing up all rows of $\\hat{A}$)"
   ]
  },
  {
   "cell_type": "markdown",
   "metadata": {
    "slideshow": {
     "slide_type": "fragment"
    }
   },
   "source": [
    "- $\\mathbb{1} \\in \\mathcal{R}(\\hat{A}) \\implies \\mathbb{1} \\in \\mathcal{R}(A) \\implies \\mathbb{1} \\in \\mathcal{C}(A)$"
   ]
  },
  {
   "cell_type": "markdown",
   "metadata": {
    "slideshow": {
     "slide_type": "fragment"
    }
   },
   "source": [
    "Therefore the *all lights on* configuration is *all*ways winnable!"
   ]
  }
 ],
 "metadata": {
  "celltoolbar": "Slideshow",
  "kernelspec": {
   "display_name": ".venv",
   "language": "python",
   "name": ".venv"
  },
  "language_info": {
   "codemirror_mode": {
    "name": "ipython",
    "version": 3
   },
   "file_extension": ".py",
   "mimetype": "text/x-python",
   "name": "python",
   "nbconvert_exporter": "python",
   "pygments_lexer": "ipython3",
   "version": "3.12.3"
  },
  "livereveal": {
   "autolaunch": true
  },
  "rise": {
   "autolaunch": true,
   "center": false,
   "footer": "<i>Made by Vivek Sivaramakrishnan</i>",
   "scroll": true,
   "theme": "serif"
  },
  "varInspector": {
   "cols": {
    "lenName": 16,
    "lenType": 16,
    "lenVar": 40
   },
   "kernels_config": {
    "python": {
     "delete_cmd_postfix": "",
     "delete_cmd_prefix": "del ",
     "library": "var_list.py",
     "varRefreshCmd": "print(var_dic_list())"
    },
    "r": {
     "delete_cmd_postfix": ") ",
     "delete_cmd_prefix": "rm(",
     "library": "var_list.r",
     "varRefreshCmd": "cat(var_dic_list()) "
    }
   },
   "types_to_exclude": [
    "module",
    "function",
    "builtin_function_or_method",
    "instance",
    "_Feature"
   ],
   "window_display": false
  }
 },
 "nbformat": 4,
 "nbformat_minor": 4
}
